# Handwriting OCR - Google Colab Project
# Description : Extraire du texte à partir d'images manuscrites

# -------------------------------
# Step 1: Installer les dépendances
# -------------------------------
!sudo apt install -y tesseract-ocr
!pip install pytesseract pillow easyocr opencv-python matplotlib

# -------------------------------
# Step 2: Importer les librairies
# -------------------------------
import cv2
import pytesseract
from PIL import Image
import matplotlib.pyplot as plt
import easyocr
from google.colab import files

# -------------------------------
# Step 3: Télécharger l'image manuscrite
# -------------------------------
uploaded = files.upload()  # Choisir l'image manuscrite
image_path = list(uploaded.keys())[0]

# -------------------------------
# Step 4: OCR avec Tesseract
# -------------------------------
# Charger l'image et convertir en niveaux de gris
img = cv2.imread(image_path)
gray = cv2.cvtColor(img, cv2.COLOR_BGR2GRAY)

# Seuillage pour améliorer la reconnaissance
_, thresh = cv2.threshold(gray, 150, 255, cv2.THRESH_BINARY)

# Extraction de texte
text_tesseract = pytesseract.image_to_string(thresh, lang="eng")
print("📌 Texte extrait avec Tesseract:\n", text_tesseract)

# -------------------------------
# Step 5: OCR avec EasyOCR
# -------------------------------
reader = easyocr.Reader(['en'])  # Initialiser EasyOCR
results = reader.readtext(image_path)

print("📌 Texte extrait avec EasyOCR:")
for (bbox, text, prob) in results:
    print(f"{text} (confidence: {prob:.2f})")

# -------------------------------
# Step 6: Visualisation avec boîtes englobantes
# -------------------------------
for (bbox, text, prob) in results:
    (top_left, top_right, bottom_right, bottom_left) = bbox
    top_left = tuple(map(int, top_left))
    bottom_right = tuple(map(int, bottom_right))
    cv2.rectangle(img, top_left, bottom_right, (0,255,0), 2)
    cv2.putText(img, text, top_left, cv2.FONT_HERSHEY_SIMPLEX, 0.7, (255,0,0), 2)

plt.figure(figsize=(12,8))
plt.imshow(cv2.cvtColor(img, cv2.COLOR_BGR2RGB))
plt.axis("off")
plt.title("Résultat OCR avec EasyOCR")
plt.show()
